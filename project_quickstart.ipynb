{
 "cells": [
  {
   "cell_type": "markdown",
   "id": "4f6f3d21",
   "metadata": {},
   "source": [
    "# Olist + DuckDB: Quick Exploration\n",
    "\n",
    "This notebook connects to the local `olist.duckdb` database that you created with `duckdb_ingest.py` and runs a few sanity checks and exploratory queries.\n",
    "\n",
    "**What you’ll do here:**  \n",
    "1. Connect to DuckDB  \n",
    "2. List tables & row counts  \n",
    "3. Peek into orders, items, customers  \n",
    "4. Produce a simple monthly sales plot\n",
    "\n",
    "> Tip: If you need to re-run ingestion, execute `python duckdb_ingest.py` in your project root first.\n"
   ]
  },
  {
   "cell_type": "code",
   "execution_count": null,
   "id": "cae760fd",
   "metadata": {},
   "outputs": [],
   "source": [
    "import duckdb, pandas as pd\n",
    "import matplotlib.pyplot as plt\n",
    "\n",
    "# Connect to local DuckDB database file (make sure olist.duckdb is in the same working directory)\n",
    "con = duckdb.connect(database=\"olist.duckdb\", read_only=True)\n",
    "\n",
    "# Helper to show a query as a DataFrame\n",
    "def q(sql):\n",
    "    return con.execute(sql).df()"
   ]
  },
  {
   "cell_type": "markdown",
   "id": "a9011b95",
   "metadata": {},
   "source": [
    "## Show tables"
   ]
  },
  {
   "cell_type": "code",
   "execution_count": null,
   "id": "e2292b25",
   "metadata": {},
   "outputs": [],
   "source": [
    "q(\"SHOW TABLES\")"
   ]
  },
  {
   "cell_type": "markdown",
   "id": "6baebfcf",
   "metadata": {},
   "source": [
    "## Basic row counts"
   ]
  },
  {
   "cell_type": "code",
   "execution_count": null,
   "id": "f5ac65fd",
   "metadata": {},
   "outputs": [],
   "source": [
    "tables = [t for t in q(\"SHOW TABLES\")['name'].tolist()]\n",
    "counts = []\n",
    "for t in tables:\n",
    "    c = q(f\"SELECT '{t}' AS table_name, COUNT(*) AS row_count FROM {t}\")\n",
    "    counts.append(c)\n",
    "row_counts = pd.concat(counts, ignore_index=True)\n",
    "row_counts"
   ]
  },
  {
   "cell_type": "markdown",
   "id": "f53456cb",
   "metadata": {},
   "source": [
    "## Peek into key tables"
   ]
  },
  {
   "cell_type": "code",
   "execution_count": null,
   "id": "c08caab5",
   "metadata": {},
   "outputs": [],
   "source": [
    "{\n",
    "    \"orders\": q(\"SELECT * FROM orders LIMIT 5\"),\n",
    "    \"order_items\": q(\"SELECT * FROM order_items LIMIT 5\"),\n",
    "    \"customers\": q(\"SELECT * FROM customers LIMIT 5\"),\n",
    "    \"products\": q(\"SELECT * FROM products LIMIT 5\")\n",
    "}"
   ]
  },
  {
   "cell_type": "markdown",
   "id": "b71019d5",
   "metadata": {},
   "source": [
    "## Monthly Sales Trend (price + freight)"
   ]
  },
  {
   "cell_type": "code",
   "execution_count": null,
   "id": "c484d3c0",
   "metadata": {},
   "outputs": [],
   "source": [
    "monthly = q(\n",
    "    '''\n",
    "    WITH items AS (\n",
    "        SELECT\n",
    "            o.order_purchase_timestamp::DATE AS purchase_date,\n",
    "            DATE_TRUNC('month', o.order_purchase_timestamp)::DATE AS month_start,\n",
    "            (oi.price + oi.freight_value) AS line_total\n",
    "        FROM orders o\n",
    "        JOIN order_items oi ON o.order_id = oi.order_id\n",
    "        WHERE o.order_purchase_timestamp IS NOT NULL\n",
    "    )\n",
    "    SELECT month_start, SUM(line_total) AS monthly_revenue\n",
    "    FROM items\n",
    "    GROUP BY 1\n",
    "    ORDER BY 1\n",
    "    '''\n",
    ")\n",
    "monthly.set_index('month_start')['monthly_revenue'].plot(figsize=(10,4))\n",
    "plt.title(\"Monthly Revenue (Olist)\")\n",
    "plt.xlabel(\"Month\")\n",
    "plt.ylabel(\"Revenue\")\n",
    "plt.show()\n",
    "\n",
    "monthly.head()"
   ]
  },
  {
   "cell_type": "markdown",
   "id": "a54e0637",
   "metadata": {},
   "source": [
    "## Top Product Categories by Revenue"
   ]
  },
  {
   "cell_type": "code",
   "execution_count": null,
   "id": "c4ba0a27",
   "metadata": {},
   "outputs": [],
   "source": [
    "top_cat = q(\n",
    "    '''\n",
    "    SELECT\n",
    "        COALESCE(ct.product_category_name_english, p.product_category_name) AS category_name,\n",
    "        SUM(oi.price + oi.freight_value) AS revenue\n",
    "    FROM order_items oi\n",
    "    JOIN products p ON oi.product_id = p.product_id\n",
    "    LEFT JOIN category_translation ct\n",
    "      ON p.product_category_name = ct.product_category_name\n",
    "    GROUP BY 1\n",
    "    ORDER BY revenue DESC\n",
    "    LIMIT 15\n",
    "    '''\n",
    ")\n",
    "top_cat"
   ]
  }
 ],
 "metadata": {},
 "nbformat": 4,
 "nbformat_minor": 5
}
